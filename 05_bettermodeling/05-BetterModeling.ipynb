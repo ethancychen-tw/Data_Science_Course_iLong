{
 "cells": [
  {
   "cell_type": "markdown",
   "metadata": {},
   "source": [
    "# 05 - Better Modeling\n",
    "\n",
    "We talked about types of philosophy behind 4 kinds of prediction methods last time. Now build on ***top*** of that, we would discuss about some addtional concepts for modeling and performance evaluation in modern times(well, I mean in these 30 years). Note that I highlight the top word. It means the concepts we will talk today are regardless the method and evaluation metrics. \n",
    "\n",
    "For our Article example in the first section, we knew a typical data project has these steps\n",
    "\n",
    "- Define the goal, task\n",
    "- Data preprocessing\n",
    "- Explanatory data analysis\n",
    "- Feature engineering\n",
    "- **Modeling**\n",
    "- **Performance evaluation**\n",
    "\n",
    "The dataset we are going to use today is the [Titanic dataset](https://www.kaggle.com/c/titanic/overview), which is one of the popular practing dataset on Kaggle."
   ]
  },
  {
   "cell_type": "code",
   "execution_count": 1,
   "metadata": {},
   "outputs": [
    {
     "data": {
      "text/html": [
       "<div>\n",
       "<style scoped>\n",
       "    .dataframe tbody tr th:only-of-type {\n",
       "        vertical-align: middle;\n",
       "    }\n",
       "\n",
       "    .dataframe tbody tr th {\n",
       "        vertical-align: top;\n",
       "    }\n",
       "\n",
       "    .dataframe thead th {\n",
       "        text-align: right;\n",
       "    }\n",
       "</style>\n",
       "<table border=\"1\" class=\"dataframe\">\n",
       "  <thead>\n",
       "    <tr style=\"text-align: right;\">\n",
       "      <th></th>\n",
       "      <th>Survived</th>\n",
       "      <th>Pclass</th>\n",
       "      <th>Name</th>\n",
       "      <th>Sex</th>\n",
       "      <th>Age</th>\n",
       "      <th>SibSp</th>\n",
       "      <th>Parch</th>\n",
       "      <th>Ticket</th>\n",
       "      <th>Fare</th>\n",
       "      <th>Cabin</th>\n",
       "      <th>Embarked</th>\n",
       "    </tr>\n",
       "    <tr>\n",
       "      <th>PassengerId</th>\n",
       "      <th></th>\n",
       "      <th></th>\n",
       "      <th></th>\n",
       "      <th></th>\n",
       "      <th></th>\n",
       "      <th></th>\n",
       "      <th></th>\n",
       "      <th></th>\n",
       "      <th></th>\n",
       "      <th></th>\n",
       "      <th></th>\n",
       "    </tr>\n",
       "  </thead>\n",
       "  <tbody>\n",
       "    <tr>\n",
       "      <th>1</th>\n",
       "      <td>0</td>\n",
       "      <td>3</td>\n",
       "      <td>Braund, Mr. Owen Harris</td>\n",
       "      <td>male</td>\n",
       "      <td>22.0</td>\n",
       "      <td>1</td>\n",
       "      <td>0</td>\n",
       "      <td>A/5 21171</td>\n",
       "      <td>7.2500</td>\n",
       "      <td>NaN</td>\n",
       "      <td>S</td>\n",
       "    </tr>\n",
       "    <tr>\n",
       "      <th>2</th>\n",
       "      <td>1</td>\n",
       "      <td>1</td>\n",
       "      <td>Cumings, Mrs. John Bradley (Florence Briggs Th...</td>\n",
       "      <td>female</td>\n",
       "      <td>38.0</td>\n",
       "      <td>1</td>\n",
       "      <td>0</td>\n",
       "      <td>PC 17599</td>\n",
       "      <td>71.2833</td>\n",
       "      <td>C85</td>\n",
       "      <td>C</td>\n",
       "    </tr>\n",
       "    <tr>\n",
       "      <th>3</th>\n",
       "      <td>1</td>\n",
       "      <td>3</td>\n",
       "      <td>Heikkinen, Miss. Laina</td>\n",
       "      <td>female</td>\n",
       "      <td>26.0</td>\n",
       "      <td>0</td>\n",
       "      <td>0</td>\n",
       "      <td>STON/O2. 3101282</td>\n",
       "      <td>7.9250</td>\n",
       "      <td>NaN</td>\n",
       "      <td>S</td>\n",
       "    </tr>\n",
       "    <tr>\n",
       "      <th>4</th>\n",
       "      <td>1</td>\n",
       "      <td>1</td>\n",
       "      <td>Futrelle, Mrs. Jacques Heath (Lily May Peel)</td>\n",
       "      <td>female</td>\n",
       "      <td>35.0</td>\n",
       "      <td>1</td>\n",
       "      <td>0</td>\n",
       "      <td>113803</td>\n",
       "      <td>53.1000</td>\n",
       "      <td>C123</td>\n",
       "      <td>S</td>\n",
       "    </tr>\n",
       "    <tr>\n",
       "      <th>5</th>\n",
       "      <td>0</td>\n",
       "      <td>3</td>\n",
       "      <td>Allen, Mr. William Henry</td>\n",
       "      <td>male</td>\n",
       "      <td>35.0</td>\n",
       "      <td>0</td>\n",
       "      <td>0</td>\n",
       "      <td>373450</td>\n",
       "      <td>8.0500</td>\n",
       "      <td>NaN</td>\n",
       "      <td>S</td>\n",
       "    </tr>\n",
       "  </tbody>\n",
       "</table>\n",
       "</div>"
      ],
      "text/plain": [
       "             Survived  Pclass  \\\n",
       "PassengerId                     \n",
       "1                   0       3   \n",
       "2                   1       1   \n",
       "3                   1       3   \n",
       "4                   1       1   \n",
       "5                   0       3   \n",
       "\n",
       "                                                          Name     Sex   Age  \\\n",
       "PassengerId                                                                    \n",
       "1                                      Braund, Mr. Owen Harris    male  22.0   \n",
       "2            Cumings, Mrs. John Bradley (Florence Briggs Th...  female  38.0   \n",
       "3                                       Heikkinen, Miss. Laina  female  26.0   \n",
       "4                 Futrelle, Mrs. Jacques Heath (Lily May Peel)  female  35.0   \n",
       "5                                     Allen, Mr. William Henry    male  35.0   \n",
       "\n",
       "             SibSp  Parch            Ticket     Fare Cabin Embarked  \n",
       "PassengerId                                                          \n",
       "1                1      0         A/5 21171   7.2500   NaN        S  \n",
       "2                1      0          PC 17599  71.2833   C85        C  \n",
       "3                0      0  STON/O2. 3101282   7.9250   NaN        S  \n",
       "4                1      0            113803  53.1000  C123        S  \n",
       "5                0      0            373450   8.0500   NaN        S  "
      ]
     },
     "execution_count": 1,
     "metadata": {},
     "output_type": "execute_result"
    }
   ],
   "source": [
    "import pandas as pd\n",
    "from sklearn.model_selection import train_test_split\n",
    "data = pd.read_csv(\"./titanic_train.csv\").set_index('PassengerId')\n",
    "data.head()"
   ]
  },
  {
   "cell_type": "markdown",
   "metadata": {},
   "source": [
    "<div><img src=\"./titanic_col.png\" width=\"500\"/></div>\n"
   ]
  },
  {
   "cell_type": "code",
   "execution_count": 2,
   "metadata": {},
   "outputs": [
    {
     "data": {
      "text/html": [
       "<div>\n",
       "<style scoped>\n",
       "    .dataframe tbody tr th:only-of-type {\n",
       "        vertical-align: middle;\n",
       "    }\n",
       "\n",
       "    .dataframe tbody tr th {\n",
       "        vertical-align: top;\n",
       "    }\n",
       "\n",
       "    .dataframe thead th {\n",
       "        text-align: right;\n",
       "    }\n",
       "</style>\n",
       "<table border=\"1\" class=\"dataframe\">\n",
       "  <thead>\n",
       "    <tr style=\"text-align: right;\">\n",
       "      <th></th>\n",
       "      <th>Survived</th>\n",
       "      <th>Pclass</th>\n",
       "      <th>Name</th>\n",
       "      <th>Sex</th>\n",
       "      <th>Age</th>\n",
       "      <th>SibSp</th>\n",
       "      <th>Parch</th>\n",
       "      <th>Ticket</th>\n",
       "      <th>Fare</th>\n",
       "      <th>Cabin</th>\n",
       "      <th>Embarked</th>\n",
       "    </tr>\n",
       "    <tr>\n",
       "      <th>PassengerId</th>\n",
       "      <th></th>\n",
       "      <th></th>\n",
       "      <th></th>\n",
       "      <th></th>\n",
       "      <th></th>\n",
       "      <th></th>\n",
       "      <th></th>\n",
       "      <th></th>\n",
       "      <th></th>\n",
       "      <th></th>\n",
       "      <th></th>\n",
       "    </tr>\n",
       "  </thead>\n",
       "  <tbody>\n",
       "    <tr>\n",
       "      <th>1</th>\n",
       "      <td>0</td>\n",
       "      <td>3</td>\n",
       "      <td>108</td>\n",
       "      <td>1</td>\n",
       "      <td>22.0</td>\n",
       "      <td>1</td>\n",
       "      <td>0</td>\n",
       "      <td>523</td>\n",
       "      <td>7.2500</td>\n",
       "      <td>147</td>\n",
       "      <td>2</td>\n",
       "    </tr>\n",
       "    <tr>\n",
       "      <th>2</th>\n",
       "      <td>1</td>\n",
       "      <td>1</td>\n",
       "      <td>190</td>\n",
       "      <td>0</td>\n",
       "      <td>38.0</td>\n",
       "      <td>1</td>\n",
       "      <td>0</td>\n",
       "      <td>596</td>\n",
       "      <td>71.2833</td>\n",
       "      <td>81</td>\n",
       "      <td>0</td>\n",
       "    </tr>\n",
       "    <tr>\n",
       "      <th>3</th>\n",
       "      <td>1</td>\n",
       "      <td>3</td>\n",
       "      <td>353</td>\n",
       "      <td>0</td>\n",
       "      <td>26.0</td>\n",
       "      <td>0</td>\n",
       "      <td>0</td>\n",
       "      <td>669</td>\n",
       "      <td>7.9250</td>\n",
       "      <td>147</td>\n",
       "      <td>2</td>\n",
       "    </tr>\n",
       "    <tr>\n",
       "      <th>4</th>\n",
       "      <td>1</td>\n",
       "      <td>1</td>\n",
       "      <td>272</td>\n",
       "      <td>0</td>\n",
       "      <td>35.0</td>\n",
       "      <td>1</td>\n",
       "      <td>0</td>\n",
       "      <td>49</td>\n",
       "      <td>53.1000</td>\n",
       "      <td>55</td>\n",
       "      <td>2</td>\n",
       "    </tr>\n",
       "    <tr>\n",
       "      <th>5</th>\n",
       "      <td>0</td>\n",
       "      <td>3</td>\n",
       "      <td>15</td>\n",
       "      <td>1</td>\n",
       "      <td>35.0</td>\n",
       "      <td>0</td>\n",
       "      <td>0</td>\n",
       "      <td>472</td>\n",
       "      <td>8.0500</td>\n",
       "      <td>147</td>\n",
       "      <td>2</td>\n",
       "    </tr>\n",
       "  </tbody>\n",
       "</table>\n",
       "</div>"
      ],
      "text/plain": [
       "             Survived  Pclass  Name  Sex   Age  SibSp  Parch  Ticket     Fare  \\\n",
       "PassengerId                                                                     \n",
       "1                   0       3   108    1  22.0      1      0     523   7.2500   \n",
       "2                   1       1   190    0  38.0      1      0     596  71.2833   \n",
       "3                   1       3   353    0  26.0      0      0     669   7.9250   \n",
       "4                   1       1   272    0  35.0      1      0      49  53.1000   \n",
       "5                   0       3    15    1  35.0      0      0     472   8.0500   \n",
       "\n",
       "             Cabin  Embarked  \n",
       "PassengerId                   \n",
       "1              147         2  \n",
       "2               81         0  \n",
       "3              147         2  \n",
       "4               55         2  \n",
       "5              147         2  "
      ]
     },
     "execution_count": 2,
     "metadata": {},
     "output_type": "execute_result"
    }
   ],
   "source": [
    "from sklearn.preprocessing import LabelEncoder\n",
    "for col in ['Name','Sex','Ticket','Cabin','Embarked']:\n",
    "    data[col] = LabelEncoder().fit_transform(data[col].fillna('na'))\n",
    "data.fillna(0,inplace = True)\n",
    "data.head()"
   ]
  },
  {
   "cell_type": "code",
   "execution_count": 3,
   "metadata": {},
   "outputs": [],
   "source": [
    "X_train, X_test, y_train, y_test = train_test_split(data.drop(['Survived'],axis = 'columns'),data['Survived'],test_size=0.2)"
   ]
  },
  {
   "cell_type": "code",
   "execution_count": 4,
   "metadata": {},
   "outputs": [
    {
     "data": {
      "text/html": [
       "<div>\n",
       "<style scoped>\n",
       "    .dataframe tbody tr th:only-of-type {\n",
       "        vertical-align: middle;\n",
       "    }\n",
       "\n",
       "    .dataframe tbody tr th {\n",
       "        vertical-align: top;\n",
       "    }\n",
       "\n",
       "    .dataframe thead th {\n",
       "        text-align: right;\n",
       "    }\n",
       "</style>\n",
       "<table border=\"1\" class=\"dataframe\">\n",
       "  <thead>\n",
       "    <tr style=\"text-align: right;\">\n",
       "      <th></th>\n",
       "      <th>Pclass</th>\n",
       "      <th>Name</th>\n",
       "      <th>Sex</th>\n",
       "      <th>Age</th>\n",
       "      <th>SibSp</th>\n",
       "      <th>Parch</th>\n",
       "      <th>Ticket</th>\n",
       "      <th>Fare</th>\n",
       "      <th>Cabin</th>\n",
       "      <th>Embarked</th>\n",
       "    </tr>\n",
       "    <tr>\n",
       "      <th>PassengerId</th>\n",
       "      <th></th>\n",
       "      <th></th>\n",
       "      <th></th>\n",
       "      <th></th>\n",
       "      <th></th>\n",
       "      <th></th>\n",
       "      <th></th>\n",
       "      <th></th>\n",
       "      <th></th>\n",
       "      <th></th>\n",
       "    </tr>\n",
       "  </thead>\n",
       "  <tbody>\n",
       "    <tr>\n",
       "      <th>30</th>\n",
       "      <td>3</td>\n",
       "      <td>813</td>\n",
       "      <td>1</td>\n",
       "      <td>0.0</td>\n",
       "      <td>0</td>\n",
       "      <td>0</td>\n",
       "      <td>362</td>\n",
       "      <td>7.8958</td>\n",
       "      <td>147</td>\n",
       "      <td>2</td>\n",
       "    </tr>\n",
       "    <tr>\n",
       "      <th>460</th>\n",
       "      <td>3</td>\n",
       "      <td>603</td>\n",
       "      <td>1</td>\n",
       "      <td>0.0</td>\n",
       "      <td>0</td>\n",
       "      <td>0</td>\n",
       "      <td>468</td>\n",
       "      <td>7.7500</td>\n",
       "      <td>147</td>\n",
       "      <td>1</td>\n",
       "    </tr>\n",
       "    <tr>\n",
       "      <th>187</th>\n",
       "      <td>3</td>\n",
       "      <td>601</td>\n",
       "      <td>0</td>\n",
       "      <td>0.0</td>\n",
       "      <td>1</td>\n",
       "      <td>0</td>\n",
       "      <td>459</td>\n",
       "      <td>15.5000</td>\n",
       "      <td>147</td>\n",
       "      <td>1</td>\n",
       "    </tr>\n",
       "    <tr>\n",
       "      <th>114</th>\n",
       "      <td>3</td>\n",
       "      <td>417</td>\n",
       "      <td>0</td>\n",
       "      <td>20.0</td>\n",
       "      <td>1</td>\n",
       "      <td>0</td>\n",
       "      <td>491</td>\n",
       "      <td>9.8250</td>\n",
       "      <td>147</td>\n",
       "      <td>2</td>\n",
       "    </tr>\n",
       "    <tr>\n",
       "      <th>493</th>\n",
       "      <td>1</td>\n",
       "      <td>547</td>\n",
       "      <td>1</td>\n",
       "      <td>55.0</td>\n",
       "      <td>0</td>\n",
       "      <td>0</td>\n",
       "      <td>41</td>\n",
       "      <td>30.5000</td>\n",
       "      <td>64</td>\n",
       "      <td>2</td>\n",
       "    </tr>\n",
       "  </tbody>\n",
       "</table>\n",
       "</div>"
      ],
      "text/plain": [
       "             Pclass  Name  Sex   Age  SibSp  Parch  Ticket     Fare  Cabin  \\\n",
       "PassengerId                                                                  \n",
       "30                3   813    1   0.0      0      0     362   7.8958    147   \n",
       "460               3   603    1   0.0      0      0     468   7.7500    147   \n",
       "187               3   601    0   0.0      1      0     459  15.5000    147   \n",
       "114               3   417    0  20.0      1      0     491   9.8250    147   \n",
       "493               1   547    1  55.0      0      0      41  30.5000     64   \n",
       "\n",
       "             Embarked  \n",
       "PassengerId            \n",
       "30                  2  \n",
       "460                 1  \n",
       "187                 1  \n",
       "114                 2  \n",
       "493                 2  "
      ]
     },
     "execution_count": 4,
     "metadata": {},
     "output_type": "execute_result"
    }
   ],
   "source": [
    "X_train.head()"
   ]
  },
  {
   "cell_type": "code",
   "execution_count": 5,
   "metadata": {},
   "outputs": [
    {
     "data": {
      "text/plain": [
       "PassengerId\n",
       "30     0\n",
       "460    0\n",
       "187    1\n",
       "114    0\n",
       "493    0\n",
       "Name: Survived, dtype: int64"
      ]
     },
     "execution_count": 5,
     "metadata": {},
     "output_type": "execute_result"
    }
   ],
   "source": [
    "y_train.head()"
   ]
  },
  {
   "cell_type": "code",
   "execution_count": 6,
   "metadata": {},
   "outputs": [
    {
     "data": {
      "text/html": [
       "<div>\n",
       "<style scoped>\n",
       "    .dataframe tbody tr th:only-of-type {\n",
       "        vertical-align: middle;\n",
       "    }\n",
       "\n",
       "    .dataframe tbody tr th {\n",
       "        vertical-align: top;\n",
       "    }\n",
       "\n",
       "    .dataframe thead th {\n",
       "        text-align: right;\n",
       "    }\n",
       "</style>\n",
       "<table border=\"1\" class=\"dataframe\">\n",
       "  <thead>\n",
       "    <tr style=\"text-align: right;\">\n",
       "      <th></th>\n",
       "      <th>Pclass</th>\n",
       "      <th>Name</th>\n",
       "      <th>Sex</th>\n",
       "      <th>Age</th>\n",
       "      <th>SibSp</th>\n",
       "      <th>Parch</th>\n",
       "      <th>Ticket</th>\n",
       "      <th>Fare</th>\n",
       "      <th>Cabin</th>\n",
       "      <th>Embarked</th>\n",
       "    </tr>\n",
       "    <tr>\n",
       "      <th>PassengerId</th>\n",
       "      <th></th>\n",
       "      <th></th>\n",
       "      <th></th>\n",
       "      <th></th>\n",
       "      <th></th>\n",
       "      <th></th>\n",
       "      <th></th>\n",
       "      <th></th>\n",
       "      <th></th>\n",
       "      <th></th>\n",
       "    </tr>\n",
       "  </thead>\n",
       "  <tbody>\n",
       "    <tr>\n",
       "      <th>332</th>\n",
       "      <td>1</td>\n",
       "      <td>637</td>\n",
       "      <td>1</td>\n",
       "      <td>45.5</td>\n",
       "      <td>0</td>\n",
       "      <td>0</td>\n",
       "      <td>20</td>\n",
       "      <td>28.5000</td>\n",
       "      <td>56</td>\n",
       "      <td>2</td>\n",
       "    </tr>\n",
       "    <tr>\n",
       "      <th>116</th>\n",
       "      <td>3</td>\n",
       "      <td>645</td>\n",
       "      <td>1</td>\n",
       "      <td>21.0</td>\n",
       "      <td>0</td>\n",
       "      <td>0</td>\n",
       "      <td>666</td>\n",
       "      <td>7.9250</td>\n",
       "      <td>147</td>\n",
       "      <td>2</td>\n",
       "    </tr>\n",
       "    <tr>\n",
       "      <th>824</th>\n",
       "      <td>3</td>\n",
       "      <td>550</td>\n",
       "      <td>0</td>\n",
       "      <td>27.0</td>\n",
       "      <td>0</td>\n",
       "      <td>1</td>\n",
       "      <td>486</td>\n",
       "      <td>12.4750</td>\n",
       "      <td>118</td>\n",
       "      <td>2</td>\n",
       "    </tr>\n",
       "    <tr>\n",
       "      <th>66</th>\n",
       "      <td>3</td>\n",
       "      <td>560</td>\n",
       "      <td>1</td>\n",
       "      <td>0.0</td>\n",
       "      <td>1</td>\n",
       "      <td>1</td>\n",
       "      <td>189</td>\n",
       "      <td>15.2458</td>\n",
       "      <td>147</td>\n",
       "      <td>0</td>\n",
       "    </tr>\n",
       "    <tr>\n",
       "      <th>56</th>\n",
       "      <td>1</td>\n",
       "      <td>873</td>\n",
       "      <td>1</td>\n",
       "      <td>0.0</td>\n",
       "      <td>0</td>\n",
       "      <td>0</td>\n",
       "      <td>94</td>\n",
       "      <td>35.5000</td>\n",
       "      <td>71</td>\n",
       "      <td>2</td>\n",
       "    </tr>\n",
       "  </tbody>\n",
       "</table>\n",
       "</div>"
      ],
      "text/plain": [
       "             Pclass  Name  Sex   Age  SibSp  Parch  Ticket     Fare  Cabin  \\\n",
       "PassengerId                                                                  \n",
       "332               1   637    1  45.5      0      0      20  28.5000     56   \n",
       "116               3   645    1  21.0      0      0     666   7.9250    147   \n",
       "824               3   550    0  27.0      0      1     486  12.4750    118   \n",
       "66                3   560    1   0.0      1      1     189  15.2458    147   \n",
       "56                1   873    1   0.0      0      0      94  35.5000     71   \n",
       "\n",
       "             Embarked  \n",
       "PassengerId            \n",
       "332                 2  \n",
       "116                 2  \n",
       "824                 2  \n",
       "66                  0  \n",
       "56                  2  "
      ]
     },
     "execution_count": 6,
     "metadata": {},
     "output_type": "execute_result"
    }
   ],
   "source": [
    "X_test.head()"
   ]
  },
  {
   "cell_type": "markdown",
   "metadata": {},
   "source": [
    "---\n",
    "# Model type, hyperparameter, parameter\n",
    "You might have heard these words: model tuning, adjusting model parameters, 調整參數, 尋找最佳參數, 超參數設定. To clarify what these action let's look at these 3 nouns.\n",
    "\n",
    "- Model type: Determine the model philosophy.  \n",
    "- Hyperparameter: Given the model type, determine the learning behavior. Hyperparameters are not related to data and were setted before modeling. \n",
    "    - E.g. The splitting criterion in decision tree\n",
    "- Model parameter: The settings learned from data. Model parameters were determined by machine.\n",
    "    - E.g. Given the data, find the coefficients in linear regression-> coefficients are model parameters\n",
    "    - E.g. Given the data, find the spliting nodes in decision tree-> the nodes are model parameters\n",
    "\n",
    "## Examples\n",
    "Take linear regression as an example.\n",
    "- Model type: linear regression means the model would take the form $ y = f(w_1* x_1 + w_2 * x_2...)$\n",
    "- Parameters: $w_1, w_2...$ they will be found/determined based on data.\n",
    "- Hyperparamter: the technique/criteria for finding parameters.\n",
    "\n",
    "Take KNN as an example\n",
    "- Model type: take \"neighbors\" as references\n",
    "- HyperparameterL: \"K\", calculation method for distance and calculation for aggreating neighbors\n",
    "- Parameters: None\n",
    "\n",
    "What about Decision tree?\n",
    "<div><img src=\"./tree_hyperparameters.png\" width=\"300\"/></div>"
   ]
  },
  {
   "cell_type": "code",
   "execution_count": 7,
   "metadata": {},
   "outputs": [
    {
     "data": {
      "text/plain": [
       "<Figure size 500x500 with 1 Axes>"
      ]
     },
     "metadata": {},
     "output_type": "display_data"
    }
   ],
   "source": [
    "from sklearn.tree import DecisionTreeClassifier, plot_tree\n",
    "from matplotlib import pyplot as plt\n",
    "dt_clf = DecisionTreeClassifier()\n",
    "plt.figure(figsize=(5,5))\n",
    "dt_clf.fit(X_train,y_train)\n",
    "plot_tree(dt_clf)\n",
    "plt.show()"
   ]
  },
  {
   "cell_type": "code",
   "execution_count": 8,
   "metadata": {},
   "outputs": [
    {
     "data": {
      "image/png": "[encoded data removed]",
      "text/plain": [
       "<Figure size 360x360 with 1 Axes>"
      ]
     },
     "metadata": {
      "needs_background": "light"
     },
     "output_type": "display_data"
    }
   ],
   "source": [
    "dt_clf2 = DecisionTreeClassifier(max_depth=3)\n",
    "plt.figure(figsize=(5,5))\n",
    "dt_clf2.fit(X_train,y_train)\n",
    "plot_tree(dt_clf2)\n",
    "plt.show()\n"
   ]
  },
  {
   "cell_type": "code",
   "execution_count": 9,
   "metadata": {},
   "outputs": [
    {
     "data": {
      "image/png": "[encoded data removed]",
      "text/plain": [
       "<Figure size 360x360 with 1 Axes>"
      ]
     },
     "metadata": {
      "needs_background": "light"
     },
     "output_type": "display_data"
    }
   ],
   "source": [
    "dt_clf3 = DecisionTreeClassifier(criterion='entropy')\n",
    "plt.figure(figsize=(5,5))\n",
    "dt_clf3.fit(X_train,y_train)\n",
    "plot_tree(dt_clf3)\n",
    "plt.show()"
   ]
  },
  {
   "cell_type": "markdown",
   "metadata": {},
   "source": [
    "Now we have better understanding what hyperparameter is about. The 3 graphs are all trees,"
   ]
  },
  {
   "cell_type": "code",
   "execution_count": 10,
   "metadata": {},
   "outputs": [
    {
     "name": "stdout",
     "output_type": "stream",
     "text": [
      "0.7653631284916201\n",
      "0.8324022346368715\n",
      "0.7932960893854749\n"
     ]
    }
   ],
   "source": [
    "from sklearn.metrics import accuracy_score\n",
    "print(accuracy_score(y_test,dt_clf.predict(X_test)))\n",
    "print(accuracy_score(y_test,dt_clf2.predict(X_test)))\n",
    "print(accuracy_score(y_test,dt_clf3.predict(X_test)))"
   ]
  },
  {
   "cell_type": "markdown",
   "metadata": {},
   "source": [
    "- Which tree is more complex?\n",
    "- Which tree is better?"
   ]
  },
  {
   "cell_type": "markdown",
   "metadata": {},
   "source": [
    "\n",
    "---\n",
    "# Overfitting & Underfitting\n",
    "\n",
    "According to wikipedia, \n",
    "\n",
    "## Overfitting\n",
    "Overfitting is \"the production of an analysis that corresponds too closely or exactly to a particular set of data, and may therefore fail to fit additional data or predict future observations reliably\"\n",
    "\n",
    "An overfitted model is a statistical model that contains more parameters than can be justified by the data. The essence of overfitting is to have unknowingly extracted some of the residual variation (i.e. the noise) as if that variation represented underlying model structure.\n",
    "\n",
    "<div><img src=\"./Overfitting.svg\" width=\"300\"/></div>\n",
    "\n",
    "## Underfitting\n",
    "Underfitting occurs when a statistical model cannot adequately capture the underlying structure of the data. An underfitted model is a model where some parameters or terms that would appear in a correctly specified model are missing. Underfitting would occur, for example, when fitting a linear model to non-linear data. Such a model will tend to have poor predictive performance.\n",
    "\n",
    "Combining over- and under-fitting, if we put this in a decision making aspect, we could think it as **bias-variance tradeoff** (Bias: model makes many errors, Variance: model has complex, many adjustable possiblity)\n",
    "<div><img src=\"./bias_variance_tradeoff.png\" width=\"600\"/></div>\n",
    "\n",
    "## How to avoid overfitting?\n",
    "- Early stop (how to determine when is not too early?)\n",
    "- Regulariztion (Will explain later)\n",
    "- Compare performance on training and testing data-> CV then evaluate on test data\n",
    "\n",
    "## Let's try the third solution for avoiding overfitting"
   ]
  },
  {
   "cell_type": "code",
   "execution_count": 11,
   "metadata": {},
   "outputs": [],
   "source": [
    "res = pd.DataFrame(columns = ['criterion','splitter','max_depth','min_samples_split','training_acc','testing_acc'])\n",
    "for criterion in ['gini','entropy']:\n",
    "    for splitter in ['best','random']:\n",
    "        for max_depth in [3,5,7,9,11]:\n",
    "            for min_samples_split in [2**(i+1) for i in range(5)]:\n",
    "                dtclf = DecisionTreeClassifier(criterion = criterion,splitter = splitter,max_depth = max_depth,min_samples_split = min_samples_split).fit(X_train,y_train)\n",
    "                res = res.append({'criterion':criterion,\n",
    "                            'splitter':splitter,\n",
    "                            'max_depth':max_depth,\n",
    "                            'min_samples_split':min_samples_split,\n",
    "                            'training_acc':accuracy_score(y_train,dtclf.predict(X_train)),\n",
    "                            'testing_acc':accuracy_score(y_test,dtclf.predict(X_test)),\n",
    "                           },ignore_index = True)"
   ]
  },
  {
   "cell_type": "code",
   "execution_count": 12,
   "metadata": {},
   "outputs": [
    {
     "data": {
      "text/html": [
       "<div>\n",
       "<style scoped>\n",
       "    .dataframe tbody tr th:only-of-type {\n",
       "        vertical-align: middle;\n",
       "    }\n",
       "\n",
       "    .dataframe tbody tr th {\n",
       "        vertical-align: top;\n",
       "    }\n",
       "\n",
       "    .dataframe thead th {\n",
       "        text-align: right;\n",
       "    }\n",
       "</style>\n",
       "<table border=\"1\" class=\"dataframe\">\n",
       "  <thead>\n",
       "    <tr style=\"text-align: right;\">\n",
       "      <th></th>\n",
       "      <th>criterion</th>\n",
       "      <th>splitter</th>\n",
       "      <th>max_depth</th>\n",
       "      <th>min_samples_split</th>\n",
       "      <th>training_acc</th>\n",
       "      <th>testing_acc</th>\n",
       "    </tr>\n",
       "  </thead>\n",
       "  <tbody>\n",
       "    <tr>\n",
       "      <th>43</th>\n",
       "      <td>gini</td>\n",
       "      <td>random</td>\n",
       "      <td>9</td>\n",
       "      <td>16</td>\n",
       "      <td>0.867978</td>\n",
       "      <td>0.843575</td>\n",
       "    </tr>\n",
       "    <tr>\n",
       "      <th>0</th>\n",
       "      <td>gini</td>\n",
       "      <td>best</td>\n",
       "      <td>3</td>\n",
       "      <td>2</td>\n",
       "      <td>0.813202</td>\n",
       "      <td>0.832402</td>\n",
       "    </tr>\n",
       "    <tr>\n",
       "      <th>54</th>\n",
       "      <td>entropy</td>\n",
       "      <td>best</td>\n",
       "      <td>3</td>\n",
       "      <td>32</td>\n",
       "      <td>0.811798</td>\n",
       "      <td>0.832402</td>\n",
       "    </tr>\n",
       "    <tr>\n",
       "      <th>53</th>\n",
       "      <td>entropy</td>\n",
       "      <td>best</td>\n",
       "      <td>3</td>\n",
       "      <td>16</td>\n",
       "      <td>0.811798</td>\n",
       "      <td>0.832402</td>\n",
       "    </tr>\n",
       "    <tr>\n",
       "      <th>52</th>\n",
       "      <td>entropy</td>\n",
       "      <td>best</td>\n",
       "      <td>3</td>\n",
       "      <td>8</td>\n",
       "      <td>0.811798</td>\n",
       "      <td>0.832402</td>\n",
       "    </tr>\n",
       "  </tbody>\n",
       "</table>\n",
       "</div>"
      ],
      "text/plain": [
       "   criterion splitter max_depth min_samples_split  training_acc  testing_acc\n",
       "43      gini   random         9                16      0.867978     0.843575\n",
       "0       gini     best         3                 2      0.813202     0.832402\n",
       "54   entropy     best         3                32      0.811798     0.832402\n",
       "53   entropy     best         3                16      0.811798     0.832402\n",
       "52   entropy     best         3                 8      0.811798     0.832402"
      ]
     },
     "execution_count": 12,
     "metadata": {},
     "output_type": "execute_result"
    }
   ],
   "source": [
    "res.sort_values(by = 'testing_acc',ascending = False).head()"
   ]
  },
  {
   "cell_type": "code",
   "execution_count": 13,
   "metadata": {},
   "outputs": [
    {
     "data": {
      "text/plain": [
       "<matplotlib.axes._subplots.AxesSubplot at 0x7f33a3b739e8>"
      ]
     },
     "execution_count": 13,
     "metadata": {},
     "output_type": "execute_result"
    },
    {
     "data": {
      "image/png": "[encoded data removed]",
      "text/plain": [
       "<Figure size 432x288 with 1 Axes>"
      ]
     },
     "metadata": {
      "needs_background": "light"
     },
     "output_type": "display_data"
    }
   ],
   "source": [
    "# Question: The more the max_depth, the better the performance? \n",
    "res.groupby(['max_depth'])[['training_acc','testing_acc']].mean().plot()"
   ]
  },
  {
   "cell_type": "code",
   "execution_count": 14,
   "metadata": {},
   "outputs": [
    {
     "data": {
      "text/plain": [
       "<matplotlib.axes._subplots.AxesSubplot at 0x7f33a2b33908>"
      ]
     },
     "execution_count": 14,
     "metadata": {},
     "output_type": "execute_result"
    },
    {
     "data": {
      "image/png": "[encoded data removed]",
      "text/plain": [
       "<Figure size 432x288 with 1 Axes>"
      ]
     },
     "metadata": {
      "needs_background": "light"
     },
     "output_type": "display_data"
    }
   ],
   "source": [
    "# Question: The more the min_samples_split, the better the performance? \n",
    "res.groupby(['min_samples_split'])[['training_acc','testing_acc']].mean().plot()"
   ]
  },
  {
   "cell_type": "markdown",
   "metadata": {},
   "source": [
    "**->  Unlike model parameters, there is NO regularity or rules to find good hyperparameter**"
   ]
  },
  {
   "cell_type": "markdown",
   "metadata": {},
   "source": [
    "\n",
    "\n",
    "**Question: So we just try different settings and run it and see which perform best on testing data? What is the risk of this approach? How might we deal with it?**\n",
    "\n",
    "The testing data is usually been treated as \"unseen\" data so that we could evaluate the performance for the model fairly. If we pick hyperparameter set on testing data, we are actually picking model favoring the testing data we choose. **We make the model peek the testing data through hyperparameter picking. This ruin the spirit of testing data**\n",
    "\n",
    "- At this point we may also ask: Is train-test split a good way?\n",
    "- train - **validation(tuning)** - testing\n",
    "- **cross validation**\n",
    "\n",
    "----\n",
    "# Cross Validation\n",
    "We want to exploit whole data set. For K-Fold CV, we (randomly) split data into K partitions. Train on K-1 partitions, evaluate(validate) on 1 fold. Commonly we take K = 5 or 10.\n",
    "\n",
    "<div><img src=\"./cross_validation.png\" width=\"500\"/></div>\n",
    "\n",
    "- If we find a hyperparameter setting perform reasonably good on all folds, we are more confident that the setting would be \"stable\" on unseen data\n",
    "\n",
    "**Question: What is the final model?**  \n",
    "**Question: Do we successfully avoid data peeking?**\n",
    "\n",
    "## A common pratice of combining cross validation and testing data\n",
    "<div><img src=\"./grid_search_cross_validation.png\" width=\"500\"/></div>\n",
    "\n",
    "- Use CV to find good hyperparameter and then evaluate the performance on testing data\n",
    "- **Good hyperparameter means the hyperparameter make the model with the setting perform consistently and reasonably well across folds in CV**\n",
    "\n",
    "Let's see how it is done in Python. We try the hyperparameters combinations above. But this time we use 5-fold CV and pick the best hyperparameter setting."
   ]
  },
  {
   "cell_type": "code",
   "execution_count": 15,
   "metadata": {},
   "outputs": [
    {
     "name": "stderr",
     "output_type": "stream",
     "text": [
      "/home/bagel/anaconda3/envs/jupyter/lib/python3.6/site-packages/sklearn/model_selection/_split.py:1978: FutureWarning: The default value of cv will change from 3 to 5 in version 0.22. Specify it explicitly to silence this warning.\n",
      "  warnings.warn(CV_WARNING, FutureWarning)\n"
     ]
    },
    {
     "data": {
      "text/plain": [
       "GridSearchCV(cv='warn', error_score='raise-deprecating',\n",
       "             estimator=DecisionTreeClassifier(class_weight=None,\n",
       "                                              criterion='gini', max_depth=None,\n",
       "                                              max_features=None,\n",
       "                                              max_leaf_nodes=None,\n",
       "                                              min_impurity_decrease=0.0,\n",
       "                                              min_impurity_split=None,\n",
       "                                              min_samples_leaf=1,\n",
       "                                              min_samples_split=2,\n",
       "                                              min_weight_fraction_leaf=0.0,\n",
       "                                              presort=False, random_state=None,\n",
       "                                              splitter='best'),\n",
       "             iid='warn', n_jobs=None,\n",
       "             param_grid={'criterion': ['gini', 'entropy'],\n",
       "                         'max_depth': [3, 5, 7, 9, 11],\n",
       "                         'min_samples_split': [2, 4, 8, 16, 32],\n",
       "                         'splitter': ['best', 'random']},\n",
       "             pre_dispatch='2*n_jobs', refit=True, return_train_score=False,\n",
       "             scoring=None, verbose=0)"
      ]
     },
     "execution_count": 15,
     "metadata": {},
     "output_type": "execute_result"
    }
   ],
   "source": [
    "# K fold on training data\n",
    "from sklearn.model_selection import GridSearchCV\n",
    "parameters = {'criterion':['gini','entropy'],\n",
    "              'splitter':['best','random'],\n",
    "              'max_depth':[3,5,7,9,11],\n",
    "              'min_samples_split':[2**(i+1) for i in range(5)]}\n",
    "dtclf = DecisionTreeClassifier()\n",
    "girdclf = GridSearchCV(dtclf, parameters)\n",
    "girdclf.fit(X_train,y_train)\n"
   ]
  },
  {
   "cell_type": "code",
   "execution_count": 16,
   "metadata": {},
   "outputs": [
    {
     "data": {
      "text/plain": [
       "{'criterion': 'entropy',\n",
       " 'max_depth': 5,\n",
       " 'min_samples_split': 4,\n",
       " 'splitter': 'random'}"
      ]
     },
     "execution_count": 16,
     "metadata": {},
     "output_type": "execute_result"
    }
   ],
   "source": [
    "# the best hyperparameter\n",
    "girdclf.best_params_"
   ]
  },
  {
   "cell_type": "code",
   "execution_count": 17,
   "metadata": {},
   "outputs": [
    {
     "name": "stdout",
     "output_type": "stream",
     "text": [
      "0.8156424581005587\n"
     ]
    }
   ],
   "source": [
    "# evaluate on testing data\n",
    "print(accuracy_score(y_test,girdclf.predict(X_test)))"
   ]
  },
  {
   "cell_type": "markdown",
   "metadata": {},
   "source": [
    "# Regularization\n",
    "Besides evaluate on different data sets, could we prevent our model overfitting while training? Regularization means we add some \"punishment\" on model beinng too complex.  \n",
    "In other words, we make the model fitting not just to find the paramters that make small error. It has to find the parameters that make small error and small complexity at the same time.\n",
    "\n",
    "## Example\n",
    "Let's see an example. Suppose we want to fit a model for the following data set. The data set has a target `y` and an only feature `x`"
   ]
  },
  {
   "cell_type": "code",
   "execution_count": 18,
   "metadata": {},
   "outputs": [
    {
     "data": {
      "text/html": [
       "<div>\n",
       "<style scoped>\n",
       "    .dataframe tbody tr th:only-of-type {\n",
       "        vertical-align: middle;\n",
       "    }\n",
       "\n",
       "    .dataframe tbody tr th {\n",
       "        vertical-align: top;\n",
       "    }\n",
       "\n",
       "    .dataframe thead th {\n",
       "        text-align: right;\n",
       "    }\n",
       "</style>\n",
       "<table border=\"1\" class=\"dataframe\">\n",
       "  <thead>\n",
       "    <tr style=\"text-align: right;\">\n",
       "      <th></th>\n",
       "      <th>x</th>\n",
       "      <th>y</th>\n",
       "    </tr>\n",
       "  </thead>\n",
       "  <tbody>\n",
       "    <tr>\n",
       "      <th>0</th>\n",
       "      <td>47</td>\n",
       "      <td>47.0</td>\n",
       "    </tr>\n",
       "    <tr>\n",
       "      <th>1</th>\n",
       "      <td>47</td>\n",
       "      <td>47.0</td>\n",
       "    </tr>\n",
       "    <tr>\n",
       "      <th>2</th>\n",
       "      <td>9</td>\n",
       "      <td>6.2</td>\n",
       "    </tr>\n",
       "    <tr>\n",
       "      <th>3</th>\n",
       "      <td>46</td>\n",
       "      <td>46.0</td>\n",
       "    </tr>\n",
       "    <tr>\n",
       "      <th>4</th>\n",
       "      <td>27</td>\n",
       "      <td>21.4</td>\n",
       "    </tr>\n",
       "  </tbody>\n",
       "</table>\n",
       "</div>"
      ],
      "text/plain": [
       "    x     y\n",
       "0  47  47.0\n",
       "1  47  47.0\n",
       "2   9   6.2\n",
       "3  46  46.0\n",
       "4  27  21.4"
      ]
     },
     "execution_count": 18,
     "metadata": {},
     "output_type": "execute_result"
    }
   ],
   "source": [
    "import numpy as np\n",
    "data = pd.DataFrame()\n",
    "data['x'] = np.random.choice(range(60),30)\n",
    "data['y'] = [i+np.random.choice(range(100))*14/100 if i%4==0 \n",
    "             else i-np.random.choice(range(10))*7/10 if i%3==0 \n",
    "             else i-6 if i%5 == 0 \n",
    "             else i for i in data['x'].values ]\n",
    "data.head()"
   ]
  },
  {
   "cell_type": "code",
   "execution_count": 19,
   "metadata": {},
   "outputs": [
    {
     "data": {
      "text/plain": [
       "<matplotlib.axes._subplots.AxesSubplot at 0x7f33a2e092b0>"
      ]
     },
     "execution_count": 19,
     "metadata": {},
     "output_type": "execute_result"
    },
    {
     "data": {
      "image/png": "[encoded data removed]",
      "text/plain": [
       "<Figure size 432x288 with 1 Axes>"
      ]
     },
     "metadata": {
      "needs_background": "light"
     },
     "output_type": "display_data"
    }
   ],
   "source": [
    "import seaborn as sns\n",
    "sns.scatterplot(data['x'],data['y'])"
   ]
  },
  {
   "cell_type": "markdown",
   "metadata": {},
   "source": [
    "### Try #1: Let's fit a model takes the form:  \n",
    "$ y = w_0 + w_1 *x$"
   ]
  },
  {
   "cell_type": "code",
   "execution_count": 20,
   "metadata": {},
   "outputs": [
    {
     "data": {
      "text/plain": [
       "LinearRegression(copy_X=True, fit_intercept=True, n_jobs=None, normalize=False)"
      ]
     },
     "execution_count": 20,
     "metadata": {},
     "output_type": "execute_result"
    }
   ],
   "source": [
    "from sklearn.linear_model import LinearRegression\n",
    "first_model = LinearRegression()\n",
    "first_model.fit(data[['x']],data['y'])"
   ]
  },
  {
   "cell_type": "code",
   "execution_count": 21,
   "metadata": {},
   "outputs": [
    {
     "name": "stdout",
     "output_type": "stream",
     "text": [
      "w1: 1.0206318192417678\n",
      "w0: -0.47015427288012646\n"
     ]
    }
   ],
   "source": [
    "print(\"w1: \"+str(first_model.coef_[0]))\n",
    "print(\"w0: \"+str(first_model.intercept_))"
   ]
  },
  {
   "cell_type": "code",
   "execution_count": 22,
   "metadata": {},
   "outputs": [
    {
     "data": {
      "text/plain": [
       "<matplotlib.axes._subplots.AxesSubplot at 0x7f33a2c0bda0>"
      ]
     },
     "execution_count": 22,
     "metadata": {},
     "output_type": "execute_result"
    },
    {
     "data": {
      "image/png": "[encoded data removed]",
      "text/plain": [
       "<Figure size 432x288 with 1 Axes>"
      ]
     },
     "metadata": {
      "needs_background": "light"
     },
     "output_type": "display_data"
    }
   ],
   "source": [
    "sns.lineplot(data['x'],data['x']*first_model.coef_[0]+first_model.intercept_,color = 'red')\n",
    "sns.scatterplot(data['x'],data['y'])"
   ]
  },
  {
   "cell_type": "markdown",
   "metadata": {},
   "source": [
    "### Try #2: Let's fit a model takes the form:  \n",
    "$ y = w_0 + w_1 *x + w_2*x^2 + w_3*x^{3} + + w_4*x^{4} + + w_5*x^{5}$"
   ]
  },
  {
   "cell_type": "code",
   "execution_count": 23,
   "metadata": {},
   "outputs": [
    {
     "data": {
      "text/plain": [
       "LinearRegression(copy_X=True, fit_intercept=True, n_jobs=None, normalize=False)"
      ]
     },
     "execution_count": 23,
     "metadata": {},
     "output_type": "execute_result"
    }
   ],
   "source": [
    "from sklearn.preprocessing import PolynomialFeatures\n",
    "poly = PolynomialFeatures(degree=5)\n",
    "new_data = pd.concat([pd.DataFrame(poly.fit_transform(data[['x']]),columns = ['x_'+str(i) for i in range(6)]),data['y']],axis = 'columns')\n",
    "second_model = LinearRegression()\n",
    "second_model.fit(new_data.drop('y',axis= 'columns'),new_data['y'])"
   ]
  },
  {
   "cell_type": "code",
   "execution_count": 24,
   "metadata": {},
   "outputs": [
    {
     "data": {
      "text/plain": [
       "<matplotlib.axes._subplots.AxesSubplot at 0x7f33a2c68908>"
      ]
     },
     "execution_count": 24,
     "metadata": {},
     "output_type": "execute_result"
    },
    {
     "data": {
      "image/png": "[encoded data removed]",
      "text/plain": [
       "<Figure size 432x288 with 1 Axes>"
      ]
     },
     "metadata": {
      "needs_background": "light"
     },
     "output_type": "display_data"
    }
   ],
   "source": [
    "sns.lineplot(data['x'],second_model.predict(new_data.drop('y',axis= 'columns')))\n",
    "sns.scatterplot(data['x'],data['y'])"
   ]
  },
  {
   "cell_type": "markdown",
   "metadata": {},
   "source": [
    "The Try#2 is more complex than Try#1 and has smaller fitting error. Could we make a even more complex model?\n",
    "### Try #3\n",
    "$ y = w_0 + w_1 *x + w_2*x^2 + ... w_{15}*x^{15}$"
   ]
  },
  {
   "cell_type": "code",
   "execution_count": 25,
   "metadata": {},
   "outputs": [
    {
     "data": {
      "text/plain": [
       "LinearRegression(copy_X=True, fit_intercept=True, n_jobs=None, normalize=False)"
      ]
     },
     "execution_count": 25,
     "metadata": {},
     "output_type": "execute_result"
    }
   ],
   "source": [
    "poly = PolynomialFeatures(degree=15)\n",
    "third_data = pd.concat([pd.DataFrame(poly.fit_transform(data[['x']]),columns = ['x_'+str(i) for i in range(16)]),data['y']],axis = 'columns')\n",
    "third_model = LinearRegression()\n",
    "third_model.fit(third_data.drop('y',axis= 'columns'),new_data['y'])\n"
   ]
  },
  {
   "cell_type": "code",
   "execution_count": 26,
   "metadata": {},
   "outputs": [
    {
     "data": {
      "text/plain": [
       "<matplotlib.axes._subplots.AxesSubplot at 0x7f33a24ac080>"
      ]
     },
     "execution_count": 26,
     "metadata": {},
     "output_type": "execute_result"
    },
    {
     "data": {
      "image/png": "[encoded data removed]",
      "text/plain": [
       "<Figure size 432x288 with 1 Axes>"
      ]
     },
     "metadata": {
      "needs_background": "light"
     },
     "output_type": "display_data"
    }
   ],
   "source": [
    "sns.lineplot(data['x'],third_model.predict(third_data.drop('y',axis= 'columns')))\n",
    "sns.scatterplot(data['x'],data['y'])"
   ]
  },
  {
   "cell_type": "code",
   "execution_count": 27,
   "metadata": {},
   "outputs": [
    {
     "data": {
      "text/plain": [
       "array([ 0.00000000e+00,  7.75304860e-15, -3.52429757e-18,  1.10002342e-20,\n",
       "        2.57267516e-19,  6.00930752e-18,  1.29612917e-16,  2.50845747e-15,\n",
       "        4.13714763e-14,  5.24819210e-13,  3.90879804e-12, -3.91269897e-13,\n",
       "        1.55813059e-14, -3.09518232e-16,  3.06770814e-18, -1.21345426e-20])"
      ]
     },
     "execution_count": 27,
     "metadata": {},
     "output_type": "execute_result"
    }
   ],
   "source": [
    "third_model.coef_"
   ]
  },
  {
   "cell_type": "markdown",
   "metadata": {},
   "source": [
    "Oops, it seems Try#3 overfited.\n",
    "\n",
    "## Loss function, error, model complexity \n",
    "\n",
    "To see how we could prevent our model from overfitting in training, we have to go back know more about how did machine find the parameter in linear regression?\n",
    "\n",
    "\n",
    "### Original linear regression\n",
    "\n",
    "We ask machine to \"Find a good parameter set $W_0, W_1...$, so that the fitted model has minimum error\"\n",
    "\n",
    "The function that algorithm would find its minimum is called **loss function**.  Note that loss function could be consist of not (just) modeling error.  \n",
    "\n",
    "Since we have the idea, we can manipulate our loss function, make it punish the model being too complex.\n",
    "\n",
    "### Linear regression with regularization\n",
    "We want machine to minimize modeling error and model complexity at the same time. So we add some complexity component into our loss function\n",
    "$ Loss\\ function = Error +\\lambda* model\\ complexity$\n",
    "\n",
    "- $Error $: could be mse, rmse...\n",
    "- $model\\ complexity$: could be the number of parameter, number of tree leaf. $\\lambda$ determine the degree of punsihment for model complexity\n",
    "\n",
    "\n",
    "Some common regularization in linear regression\n",
    "- L2: $\\min _{w}\\sum _{i=1}^{n}Error({\\hat {x}}_{i}\\cdot w,{\\hat {y}}_{i})+\\lambda \\|w\\|_{2}^{2}$\n",
    "- L1: $\\min _{w}\\sum _{i=1}^{n}Error({\\hat {x}}_{i}\\cdot w,{\\hat {y}}_{i})+\\lambda \\|w\\|_{2}$\n",
    "\n",
    "Let's go back to our example. Now let's add some regulariztion into Try#3"
   ]
  },
  {
   "cell_type": "code",
   "execution_count": 28,
   "metadata": {},
   "outputs": [
    {
     "name": "stderr",
     "output_type": "stream",
     "text": [
      "/home/bagel/anaconda3/envs/jupyter/lib/python3.6/site-packages/sklearn/linear_model/coordinate_descent.py:475: ConvergenceWarning: Objective did not converge. You might want to increase the number of iterations. Duality gap: 211.2772321624564, tolerance: 1.179623872\n",
      "  positive)\n"
     ]
    },
    {
     "data": {
      "text/plain": [
       "Lasso(alpha=1.0, copy_X=True, fit_intercept=True, max_iter=1000,\n",
       "      normalize=False, positive=False, precompute=False, random_state=None,\n",
       "      selection='cyclic', tol=0.0001, warm_start=False)"
      ]
     },
     "execution_count": 28,
     "metadata": {},
     "output_type": "execute_result"
    }
   ],
   "source": [
    "from sklearn.linear_model import Lasso\n",
    "lasso_model = Lasso()\n",
    "lasso_model.fit(third_data.drop('y',axis= 'columns'),new_data['y'])"
   ]
  },
  {
   "cell_type": "code",
   "execution_count": 29,
   "metadata": {},
   "outputs": [
    {
     "data": {
      "text/plain": [
       "<matplotlib.axes._subplots.AxesSubplot at 0x7f33a2490d68>"
      ]
     },
     "execution_count": 29,
     "metadata": {},
     "output_type": "execute_result"
    },
    {
     "data": {
      "image/png": "[encoded data removed]",
      "text/plain": [
       "<Figure size 432x288 with 1 Axes>"
      ]
     },
     "metadata": {
      "needs_background": "light"
     },
     "output_type": "display_data"
    }
   ],
   "source": [
    "sns.lineplot(data['x'],lasso_model.predict(third_data.drop('y',axis= 'columns')))\n",
    "sns.scatterplot(data['x'],data['y'])"
   ]
  },
  {
   "cell_type": "code",
   "execution_count": 30,
   "metadata": {},
   "outputs": [
    {
     "data": {
      "text/plain": [
       "array([ 0.00000000e+00,  2.64734174e-01,  3.72536903e-02, -4.34809552e-04,\n",
       "       -3.68594822e-06, -7.53394534e-09,  3.65195760e-10,  9.11942230e-12,\n",
       "        1.50058312e-13,  1.99885590e-15,  2.13425054e-17,  1.36538445e-19,\n",
       "       -1.34880917e-21, -7.96120513e-23, -2.20676023e-24, -5.01959342e-26])"
      ]
     },
     "execution_count": 30,
     "metadata": {},
     "output_type": "execute_result"
    }
   ],
   "source": [
    "lasso_model.coef_"
   ]
  },
  {
   "cell_type": "markdown",
   "metadata": {},
   "source": [
    "---\n",
    "# Ensemble: blend, bagging, boosting, stacking\n",
    "\n",
    "Ensemble methods use multiple learning algorithms to obtain better predictive performance than could be obtained from any of the constituent learning algorithms alone.\n",
    "\n",
    "\n",
    "## Bagging\n",
    "In order to promote model variance, bagging trains each model in the ensemble using a randomly drawn subset of the training set.\n",
    "\n",
    "### Random Forest\n",
    "<div align = \"center\" ><img src=\"./forest.jpeg\" width=\"300\"/>Photo by Sebastian Unrau on Unsplash</div>\n",
    "\n",
    "\n",
    "We had seen decision tree. Random forest build multiple trees and let them vote for final prediction.  \n",
    "**Each tree is built on a sample of training data and a sample of features.**\n",
    "\n",
    "**Why would this work? What's the benefits?**  \n",
    "**Build a complicated tree VS random forest that is consist of simple trees. Which better?**"
   ]
  },
  {
   "cell_type": "code",
   "execution_count": 31,
   "metadata": {},
   "outputs": [
    {
     "name": "stderr",
     "output_type": "stream",
     "text": [
      "/home/bagel/anaconda3/envs/jupyter/lib/python3.6/site-packages/sklearn/ensemble/forest.py:245: FutureWarning: The default value of n_estimators will change from 10 in version 0.20 to 100 in 0.22.\n",
      "  \"10 in version 0.20 to 100 in 0.22.\", FutureWarning)\n"
     ]
    },
    {
     "data": {
      "text/plain": [
       "RandomForestClassifier(bootstrap=True, class_weight=None, criterion='gini',\n",
       "                       max_depth=None, max_features='auto', max_leaf_nodes=None,\n",
       "                       min_impurity_decrease=0.0, min_impurity_split=None,\n",
       "                       min_samples_leaf=1, min_samples_split=2,\n",
       "                       min_weight_fraction_leaf=0.0, n_estimators=10,\n",
       "                       n_jobs=None, oob_score=False, random_state=None,\n",
       "                       verbose=0, warm_start=False)"
      ]
     },
     "execution_count": 31,
     "metadata": {},
     "output_type": "execute_result"
    }
   ],
   "source": [
    "from sklearn.ensemble import RandomForestClassifier\n",
    "rfclf = RandomForestClassifier()\n",
    "rfclf.fit(X_train,y_train)"
   ]
  },
  {
   "cell_type": "code",
   "execution_count": 32,
   "metadata": {},
   "outputs": [
    {
     "data": {
      "text/plain": [
       "RandomForestClassifier(bootstrap=True, class_weight=None, criterion='gini',\n",
       "                       max_depth=None, max_features='auto', max_leaf_nodes=None,\n",
       "                       min_impurity_decrease=0.0, min_impurity_split=None,\n",
       "                       min_samples_leaf=1, min_samples_split=2,\n",
       "                       min_weight_fraction_leaf=0.0, n_estimators=10,\n",
       "                       n_jobs=None, oob_score=False, random_state=None,\n",
       "                       verbose=0, warm_start=False)"
      ]
     },
     "execution_count": 32,
     "metadata": {},
     "output_type": "execute_result"
    }
   ],
   "source": [
    "rfclf"
   ]
  },
  {
   "cell_type": "code",
   "execution_count": 33,
   "metadata": {},
   "outputs": [
    {
     "name": "stdout",
     "output_type": "stream",
     "text": [
      "0.8491620111731844\n"
     ]
    }
   ],
   "source": [
    "print(accuracy_score(y_test,rfclf.predict(X_test)))"
   ]
  },
  {
   "cell_type": "markdown",
   "metadata": {},
   "source": [
    "## Boosting\n",
    "Boosting involves **incrementally** building an ensemble by training each new model instance to emphasize the training instances that previous models mis-classified.\n",
    "\n",
    "**How to improve from the last modeling?**\n",
    "\n",
    "- Adaptive Boosting(AdaBoost): boosting by adjusting data distribution\n",
    "- Gradient Boosting: boosting by setting loss function, make scoring in rounds\n",
    "\n",
    "Gradient Boosting Decision Trees (GDBT) is a popular category of gradient boosting algorithm in these years. E.g. XGBoost, LightGBM, CatBoost\n",
    "\n",
    "### XGBoost\n",
    "\"XGBoost is an algorithm that has recently been dominating applied machine learning and Kaggle competitions for structured or tabular data.\""
   ]
  },
  {
   "cell_type": "code",
   "execution_count": 34,
   "metadata": {},
   "outputs": [
    {
     "data": {
      "text/plain": [
       "XGBClassifier(base_score=0.5, booster='gbtree', colsample_bylevel=1,\n",
       "              colsample_bytree=1, gamma=0, learning_rate=0.1, max_delta_step=0,\n",
       "              max_depth=3, min_child_weight=1, missing=None, n_estimators=100,\n",
       "              n_jobs=1, nthread=None, objective='binary:logistic',\n",
       "              random_state=0, reg_alpha=0, reg_lambda=1, scale_pos_weight=1,\n",
       "              seed=None, silent=True, subsample=1)"
      ]
     },
     "execution_count": 34,
     "metadata": {},
     "output_type": "execute_result"
    }
   ],
   "source": [
    "from xgboost import XGBClassifier\n",
    "xgbclf = XGBClassifier()\n",
    "xgbclf.fit(X_train,y_train)"
   ]
  },
  {
   "cell_type": "code",
   "execution_count": 35,
   "metadata": {},
   "outputs": [
    {
     "name": "stdout",
     "output_type": "stream",
     "text": [
      "0.8156424581005587\n"
     ]
    }
   ],
   "source": [
    "print(accuracy_score(y_test,xgbclf.predict(X_test)))"
   ]
  },
  {
   "cell_type": "markdown",
   "metadata": {},
   "source": [
    "## Blending\n",
    "\n",
    "Take average/vote of the models\n",
    "\n",
    "**What to blend?**\n",
    "- Good performance\n",
    "- Low correlated\n",
    "\n",
    "\n",
    "## Stacking\n",
    "Stacking involves training a learning algorithm to combine the predictions of several other learning algorithms.\n",
    "\n",
    "<div><img src=\"./stacking.png\" width=\"300\"/><center>source: Prof Hun-yi Lee's course</center></div>\n"
   ]
  },
  {
   "cell_type": "markdown",
   "metadata": {},
   "source": [
    "# References\n",
    "- ensemble: http://violin-tao.blogspot.com/2018/01/ml-ensemble.html"
   ]
  }
 ],
 "metadata": {
  "kernelspec": {
   "display_name": "Python 3",
   "language": "python",
   "name": "python3"
  },
  "language_info": {
   "codemirror_mode": {
    "name": "ipython",
    "version": 3
   },
   "file_extension": ".py",
   "mimetype": "text/x-python",
   "name": "python",
   "nbconvert_exporter": "python",
   "pygments_lexer": "ipython3",
   "version": "3.7.6"
  }
 },
 "nbformat": 4,
 "nbformat_minor": 2
}
